{
  "cells": [
    {
      "cell_type": "markdown",
      "id": "7762d8ac-a4dc-4e60-88ae-d9866141d439",
      "metadata": {
        "id": "7762d8ac-a4dc-4e60-88ae-d9866141d439"
      },
      "source": [
        "# MNIST Active Learning POC\n",
        "\n",
        "General idea: Achieve the highest possible accuracy, with the lowest amount of train data using (supervised learning).\n",
        "\n",
        "We start from a pool of unlabeled data and a test set. Then, we itiretaively query new samples to be annotated, and re-train the model."
      ]
    },
    {
      "cell_type": "code",
      "execution_count": 3,
      "id": "ddbea19d-537b-41d5-bd32-bcc59a336edb",
      "metadata": {
        "id": "ddbea19d-537b-41d5-bd32-bcc59a336edb",
        "outputId": "f4f95067-9ec0-4718-9a0d-42cfb5403b52",
        "colab": {
          "base_uri": "https://localhost:8080/"
        }
      },
      "outputs": [
        {
          "output_type": "stream",
          "name": "stdout",
          "text": [
            "Looking in indexes: https://pypi.org/simple, https://us-python.pkg.dev/colab-wheels/public/simple/\n",
            "Collecting duecredit\n",
            "  Downloading duecredit-0.9.1-py3-none-any.whl (86 kB)\n",
            "\u001b[K     |████████████████████████████████| 86 kB 6.1 MB/s \n",
            "\u001b[?25hRequirement already satisfied: six in /usr/local/lib/python3.7/dist-packages (from duecredit) (1.15.0)\n",
            "Requirement already satisfied: importlib-metadata in /usr/local/lib/python3.7/dist-packages (from duecredit) (4.11.3)\n",
            "Collecting citeproc-py>=0.4\n",
            "  Downloading citeproc_py-0.6.0-py3-none-any.whl (179 kB)\n",
            "\u001b[K     |████████████████████████████████| 179 kB 38.6 MB/s \n",
            "\u001b[?25hRequirement already satisfied: requests in /usr/local/lib/python3.7/dist-packages (from duecredit) (2.23.0)\n",
            "Requirement already satisfied: lxml in /usr/local/lib/python3.7/dist-packages (from citeproc-py>=0.4->duecredit) (4.2.6)\n",
            "Requirement already satisfied: zipp>=0.5 in /usr/local/lib/python3.7/dist-packages (from importlib-metadata->duecredit) (3.8.0)\n",
            "Requirement already satisfied: typing-extensions>=3.6.4 in /usr/local/lib/python3.7/dist-packages (from importlib-metadata->duecredit) (4.2.0)\n",
            "Requirement already satisfied: chardet<4,>=3.0.2 in /usr/local/lib/python3.7/dist-packages (from requests->duecredit) (3.0.4)\n",
            "Requirement already satisfied: certifi>=2017.4.17 in /usr/local/lib/python3.7/dist-packages (from requests->duecredit) (2022.5.18.1)\n",
            "Requirement already satisfied: idna<3,>=2.5 in /usr/local/lib/python3.7/dist-packages (from requests->duecredit) (2.10)\n",
            "Requirement already satisfied: urllib3!=1.25.0,!=1.25.1,<1.26,>=1.21.1 in /usr/local/lib/python3.7/dist-packages (from requests->duecredit) (1.24.3)\n",
            "Installing collected packages: citeproc-py, duecredit\n",
            "Successfully installed citeproc-py-0.6.0 duecredit-0.9.1\n",
            "Looking in indexes: https://pypi.org/simple, https://us-python.pkg.dev/colab-wheels/public/simple/\n",
            "Requirement already satisfied: forestci in /usr/local/lib/python3.7/dist-packages (0.5.1)\n",
            "Requirement already satisfied: scikit-learn>=0.23.1 in /usr/local/lib/python3.7/dist-packages (from forestci) (1.0.2)\n",
            "Requirement already satisfied: numpy>=1.18.4 in /usr/local/lib/python3.7/dist-packages (from forestci) (1.21.6)\n",
            "Requirement already satisfied: scipy>=1.1.0 in /usr/local/lib/python3.7/dist-packages (from scikit-learn>=0.23.1->forestci) (1.4.1)\n",
            "Requirement already satisfied: joblib>=0.11 in /usr/local/lib/python3.7/dist-packages (from scikit-learn>=0.23.1->forestci) (1.1.0)\n",
            "Requirement already satisfied: threadpoolctl>=2.0.0 in /usr/local/lib/python3.7/dist-packages (from scikit-learn>=0.23.1->forestci) (3.1.0)\n"
          ]
        }
      ],
      "source": [
        "import tensorflow as tf\n",
        "\n",
        "import numpy as np\n",
        "\n",
        "import matplotlib.pyplot as plt\n",
        "from matplotlib.colors import Normalize\n",
        "\n",
        "from sklearn.ensemble import RandomForestClassifier\n",
        "from sklearn.metrics import confusion_matrix\n",
        "from sklearn.metrics import ConfusionMatrixDisplay\n",
        "from sklearn.metrics import accuracy_score\n",
        "from sklearn.cluster import KMeans\n",
        "\n",
        "from scipy import stats\n",
        "\n",
        "import collections\n",
        "\n",
        "!pip install duecredit\n",
        "!pip install forestci\n",
        "import forestci as fci\n",
        "\n",
        "import warnings\n",
        "\n",
        "import plotly.subplots as sp\n",
        "import plotly.offline\n",
        "import plotly.graph_objs as go\n",
        "import plotly.express as p\n",
        "\n",
        "warnings.filterwarnings('ignore')\n",
        "\n",
        "np.random.seed(3108)"
      ]
    },
    {
      "cell_type": "markdown",
      "id": "bc7c78bd-bbc4-486a-a7f9-b7da5ed04cb8",
      "metadata": {
        "id": "bc7c78bd-bbc4-486a-a7f9-b7da5ed04cb8"
      },
      "source": [
        "## The data\n",
        "\n",
        "MNIST, CIFAR10, LCZ42..."
      ]
    },
    {
      "cell_type": "code",
      "execution_count": 4,
      "id": "2162f159-958b-4d27-a258-d49a1365283d",
      "metadata": {
        "id": "2162f159-958b-4d27-a258-d49a1365283d",
        "outputId": "399020d9-9781-471c-f442-48917054485f",
        "colab": {
          "base_uri": "https://localhost:8080/"
        }
      },
      "outputs": [
        {
          "output_type": "stream",
          "name": "stdout",
          "text": [
            "Downloading data from https://storage.googleapis.com/tensorflow/tf-keras-datasets/mnist.npz\n",
            "11493376/11490434 [==============================] - 0s 0us/step\n",
            "11501568/11490434 [==============================] - 0s 0us/step\n",
            "Number of original training examples: 60000\n",
            "Number of original test examples: 10000\n",
            "Number of classes: 10\n"
          ]
        }
      ],
      "source": [
        "dataset = 'MNIST'\n",
        "\n",
        "x_train = y_train = x_test = y_test = None\n",
        "\n",
        "if dataset == 'MNIST':\n",
        "    (x_train, y_train), (x_test, y_test) = tf.keras.datasets.mnist.load_data()\n",
        "    x_train, x_test = x_train[..., np.newaxis]/255.0, x_test[..., np.newaxis]/255.0\n",
        "elif dataset == 'CIFAR10':\n",
        "    (x_train, y_train), (x_test, y_test) = tf.keras.datasets.cifar10.load_data()\n",
        "    x_train, x_test = x_train / 255.0, x_test / 255.0\n",
        "\n",
        "NUMBER_OF_CLASSES = len(np.unique(y_train))\n",
        "\n",
        "print(\"Number of original training examples:\", len(x_train))\n",
        "print(\"Number of original test examples:\", len(x_test))\n",
        "print(\"Number of classes:\", NUMBER_OF_CLASSES)"
      ]
    },
    {
      "cell_type": "markdown",
      "id": "285f2f57-aff3-4e92-a7bf-905db352a431",
      "metadata": {
        "id": "285f2f57-aff3-4e92-a7bf-905db352a431"
      },
      "source": [
        "## Baseline model"
      ]
    },
    {
      "cell_type": "code",
      "execution_count": 5,
      "id": "3630cd2f-c691-4566-a399-e4e4693177d4",
      "metadata": {
        "id": "3630cd2f-c691-4566-a399-e4e4693177d4",
        "outputId": "c14520fd-e054-412f-e4d0-07247868276e",
        "colab": {
          "base_uri": "https://localhost:8080/"
        }
      },
      "outputs": [
        {
          "output_type": "execute_result",
          "data": {
            "text/plain": [
              "<keras.callbacks.History at 0x7f7d38846850>"
            ]
          },
          "metadata": {},
          "execution_count": 5
        }
      ],
      "source": [
        "# the batch size will be used as the number of new images to annotate\n",
        "BATCH_SIZE = 128\n",
        "BASELINE_EPOCHS = 6\n",
        "VALIDATION_SPLIT = 0.2\n",
        "\n",
        "baseline_model = tf.keras.models.Sequential([\n",
        "  tf.keras.layers.Flatten(input_shape=x_train.shape[1:]),\n",
        "  tf.keras.layers.Dense(128, activation='relu'),\n",
        "  tf.keras.layers.Dense(NUMBER_OF_CLASSES)\n",
        "])\n",
        "\n",
        "baseline_model.compile(\n",
        "    optimizer=tf.keras.optimizers.Adam(0.001),\n",
        "    loss=tf.keras.losses.SparseCategoricalCrossentropy(from_logits=True),\n",
        "    metrics=[tf.keras.metrics.SparseCategoricalAccuracy()],\n",
        ")\n",
        "\n",
        "baseline_model.fit(\n",
        "    x=x_train,\n",
        "    y=y_train,\n",
        "    batch_size=BATCH_SIZE,\n",
        "    epochs=BASELINE_EPOCHS,\n",
        "    validation_split=VALIDATION_SPLIT,\n",
        "    verbose=0,\n",
        ")"
      ]
    },
    {
      "cell_type": "code",
      "execution_count": 6,
      "id": "3d1817bd-d8d3-4ea8-9c9a-f507d9fedf03",
      "metadata": {
        "id": "3d1817bd-d8d3-4ea8-9c9a-f507d9fedf03",
        "outputId": "caa00562-20fd-435a-a1b1-973cce6d5034",
        "colab": {
          "base_uri": "https://localhost:8080/"
        }
      },
      "outputs": [
        {
          "output_type": "stream",
          "name": "stdout",
          "text": [
            "SparseCategoricalAccuracy 0.9707000255584717\n"
          ]
        }
      ],
      "source": [
        "_, baseline_metrics = baseline_model.evaluate(\n",
        "    x=x_test,\n",
        "    y=y_test,\n",
        "    verbose=0,\n",
        ")\n",
        "\n",
        "print(\"SparseCategoricalAccuracy\", baseline_metrics)"
      ]
    },
    {
      "cell_type": "markdown",
      "id": "09ec713d-1264-4e16-88b9-73eb02f1e145",
      "metadata": {
        "id": "09ec713d-1264-4e16-88b9-73eb02f1e145"
      },
      "source": [
        "## Randomly Added Images"
      ]
    },
    {
      "cell_type": "code",
      "execution_count": 7,
      "id": "8edbe0e5-e28d-4e2e-853f-132f445591e6",
      "metadata": {
        "id": "8edbe0e5-e28d-4e2e-853f-132f445591e6",
        "outputId": "f5d576ac-2d5a-484b-8546-0db189ee0ec4",
        "colab": {
          "base_uri": "https://localhost:8080/"
        }
      },
      "outputs": [
        {
          "output_type": "stream",
          "name": "stdout",
          "text": [
            "Initial number of annotated images 600 out of 60000\n",
            "The budget consists of 360000 forward passes\n",
            "Every round, the network is trained for 1 epoch(s)\n"
          ]
        }
      ],
      "source": [
        "INIT_SIZE = int(len(x_train) * 0.01)\n",
        "print(\"Initial number of annotated images\", INIT_SIZE, \"out of\", len(x_train))\n",
        "\n",
        "BUDGET = BASELINE_EPOCHS * len(x_train)\n",
        "print(\"The budget consists of\", BUDGET, \"forward passes\")\n",
        "\n",
        "ACTIVE_EPOCHS = 1\n",
        "print(\"Every round, the network is trained for\", ACTIVE_EPOCHS, \"epoch(s)\")"
      ]
    },
    {
      "cell_type": "code",
      "execution_count": 8,
      "id": "38d1d4ea-6230-439a-9e1d-dd4fbd561b46",
      "metadata": {
        "id": "38d1d4ea-6230-439a-9e1d-dd4fbd561b46",
        "outputId": "12634622-f413-4f33-d5e8-a79f25a68e2e",
        "colab": {
          "base_uri": "https://localhost:8080/"
        }
      },
      "outputs": [
        {
          "output_type": "stream",
          "name": "stdout",
          "text": [
            "Size of initial set of annotated images 600\n",
            "480.0 out of 360000 forward passes done\n"
          ]
        }
      ],
      "source": [
        "annotated_ix = list()\n",
        "\n",
        "annotated_ix = annotated_ix + np.random.choice(range(len(x_train)), \n",
        "                                               size=INIT_SIZE, replace=False).tolist()\n",
        "\n",
        "x_train_annotated = x_train[annotated_ix]    \n",
        "y_train_annotated = y_train[annotated_ix]\n",
        "\n",
        "print(\"Size of initial set of annotated images\", len(x_train_annotated))\n",
        "\n",
        "random_model = tf.keras.models.Sequential([\n",
        "  tf.keras.layers.Flatten(input_shape=x_train.shape[1:]),\n",
        "  tf.keras.layers.Dense(128, activation='relu'),\n",
        "  tf.keras.layers.Dense(NUMBER_OF_CLASSES)\n",
        "])\n",
        "\n",
        "random_model.compile(\n",
        "    optimizer=tf.keras.optimizers.Adam(0.001),\n",
        "    loss=tf.keras.losses.SparseCategoricalCrossentropy(from_logits=True),\n",
        "    metrics=[tf.keras.metrics.SparseCategoricalAccuracy()],\n",
        ")\n",
        "\n",
        "random_model.fit(\n",
        "    x=x_train_annotated,\n",
        "    y=y_train_annotated,\n",
        "    batch_size=BATCH_SIZE,\n",
        "    epochs=ACTIVE_EPOCHS,\n",
        "    validation_split=VALIDATION_SPLIT,\n",
        "    verbose=0,\n",
        ")\n",
        "\n",
        "random_spent = ACTIVE_EPOCHS * (1 - VALIDATION_SPLIT) * len(x_train_annotated)\n",
        "print(random_spent, \"out of\", BUDGET, \"forward passes done\")"
      ]
    },
    {
      "cell_type": "code",
      "execution_count": 9,
      "id": "ee275cfe-4d3f-44d5-a42a-74566cdf682a",
      "metadata": {
        "id": "ee275cfe-4d3f-44d5-a42a-74566cdf682a",
        "outputId": "7d82df22-7383-4862-a1ae-83a0c0d66bf0",
        "colab": {
          "base_uri": "https://localhost:8080/"
        }
      },
      "outputs": [
        {
          "output_type": "stream",
          "name": "stdout",
          "text": [
            "SparseCategoricalAccuracy 0.461899995803833\n"
          ]
        }
      ],
      "source": [
        "_, metrics = random_model.evaluate(\n",
        "    x=x_test,\n",
        "    y=y_test,\n",
        "    verbose=0,\n",
        ")\n",
        "\n",
        "print(\"SparseCategoricalAccuracy\", metrics)\n",
        "\n",
        "random_metrics = [metrics]\n",
        "random_budget = [random_spent]\n",
        "random_annotated = [len(x_train_annotated)]"
      ]
    },
    {
      "cell_type": "code",
      "execution_count": 10,
      "id": "6df2f027-46d9-4702-aa58-2ac9e11aa850",
      "metadata": {
        "id": "6df2f027-46d9-4702-aa58-2ac9e11aa850"
      },
      "outputs": [],
      "source": [
        "while random_spent < BUDGET:\n",
        "    ix_pool = np.delete(range(len(x_train)), annotated_ix)\n",
        "    annotated_ix = annotated_ix + np.random.choice(ix_pool, \n",
        "                                                   size=BATCH_SIZE, replace=False).tolist()\n",
        "    x_train_annotated = x_train[annotated_ix]    \n",
        "    y_train_annotated = y_train[annotated_ix]\n",
        "    random_model = tf.keras.models.Sequential([\n",
        "      tf.keras.layers.Flatten(input_shape=x_train.shape[1:]),\n",
        "      tf.keras.layers.Dense(128, activation='relu'),\n",
        "      tf.keras.layers.Dense(NUMBER_OF_CLASSES)\n",
        "    ])\n",
        "    random_model.compile(\n",
        "        optimizer=tf.keras.optimizers.Adam(0.001),\n",
        "        loss=tf.keras.losses.SparseCategoricalCrossentropy(from_logits=True),\n",
        "        metrics=[tf.keras.metrics.SparseCategoricalAccuracy()],\n",
        "    )\n",
        "    random_model.fit(\n",
        "        x=x_train_annotated,\n",
        "        y=y_train_annotated,\n",
        "        batch_size=BATCH_SIZE,\n",
        "        epochs=ACTIVE_EPOCHS,\n",
        "        validation_split=VALIDATION_SPLIT,\n",
        "        verbose=0,\n",
        "    )\n",
        "    _, metrics = random_model.evaluate(\n",
        "        x=x_test,\n",
        "        y=y_test,\n",
        "        verbose=0,\n",
        "    )\n",
        "    # print(\"SparseCategoricalAccuracy\", metrics, \"on\", len(x_train_annotated), \"annotated images\")\n",
        "    random_metrics.append(metrics)\n",
        "    random_spent = random_spent + ACTIVE_EPOCHS * (1 - VALIDATION_SPLIT) * len(x_train_annotated)\n",
        "    # print(random_spent, \"out of\", BUDGET, \"forward passes done\")\n",
        "    random_budget.append(random_spent)\n",
        "    random_annotated.append(len(x_train_annotated))"
      ]
    },
    {
      "cell_type": "markdown",
      "id": "ff23052f-d8f1-479d-a785-6d4b498eabe5",
      "metadata": {
        "id": "ff23052f-d8f1-479d-a785-6d4b498eabe5"
      },
      "source": [
        "The following plot shows the accuracy on test achieved by the model after *n* forward passess (training). The solid red line shows the accuracy achieved by the model using 100% of the trianing data after trianing for an equivalent time (i.e. the same number of forward passess)."
      ]
    },
    {
      "cell_type": "code",
      "execution_count": 11,
      "id": "9a04ac1b-e4eb-4c2d-b5e5-171e75c88e59",
      "metadata": {
        "id": "9a04ac1b-e4eb-4c2d-b5e5-171e75c88e59",
        "outputId": "2bf9fedd-c716-49ea-f596-66a176d0f642",
        "colab": {
          "base_uri": "https://localhost:8080/",
          "height": 282
        }
      },
      "outputs": [
        {
          "output_type": "execute_result",
          "data": {
            "text/plain": [
              "<matplotlib.lines.Line2D at 0x7f7d35c25650>"
            ]
          },
          "metadata": {},
          "execution_count": 11
        },
        {
          "output_type": "display_data",
          "data": {
            "text/plain": [
              "<Figure size 432x288 with 1 Axes>"
            ],
            "image/png": "[encoded data removed]"
          },
          "metadata": {
            "needs_background": "light"
          }
        }
      ],
      "source": [
        "plt.plot(random_budget, random_metrics)\n",
        "plt.axhline(baseline_metrics, color='r')"
      ]
    },
    {
      "cell_type": "markdown",
      "id": "e07dd229-0b4f-4d8b-b289-1e5aeef13792",
      "metadata": {
        "id": "e07dd229-0b4f-4d8b-b289-1e5aeef13792"
      },
      "source": [
        "The following plot shows the accuracy on test achieved by the model usign *x*% of annotated training data (incrementally). The solid red line shows the accuracy achieved by the model using 100% of the trianing data after trianing for an equivalent time (i.e. the same number of forward passess)."
      ]
    },
    {
      "cell_type": "code",
      "execution_count": 12,
      "id": "3e40a8a8-e995-4eb7-852e-c65952681f42",
      "metadata": {
        "id": "3e40a8a8-e995-4eb7-852e-c65952681f42",
        "outputId": "98f9085c-0df4-415a-8779-0e341ee00b15",
        "colab": {
          "base_uri": "https://localhost:8080/",
          "height": 282
        }
      },
      "outputs": [
        {
          "output_type": "execute_result",
          "data": {
            "text/plain": [
              "<matplotlib.lines.Line2D at 0x7f7d35cb8d50>"
            ]
          },
          "metadata": {},
          "execution_count": 12
        },
        {
          "output_type": "display_data",
          "data": {
            "text/plain": [
              "<Figure size 432x288 with 1 Axes>"
            ],
            "image/png": "[encoded data removed]"
          },
          "metadata": {
            "needs_background": "light"
          }
        }
      ],
      "source": [
        "random_annotated_perc = np.array(random_annotated) / len(x_train)\n",
        "plt.plot(random_annotated_perc, random_metrics)\n",
        "plt.axhline(baseline_metrics, color='r')"
      ]
    },
    {
      "cell_type": "markdown",
      "id": "92503ddb-8e78-47e5-b3da-295969b92163",
      "metadata": {
        "id": "92503ddb-8e78-47e5-b3da-295969b92163"
      },
      "source": [
        "## Clustering"
      ]
    },
    {
      "cell_type": "code",
      "execution_count": 13,
      "id": "6238aea2-f451-42d4-a0a2-f9a1f69ad4a6",
      "metadata": {
        "id": "6238aea2-f451-42d4-a0a2-f9a1f69ad4a6"
      },
      "outputs": [],
      "source": [
        "x_train_flat = np.reshape(\n",
        "    x_train, \n",
        "    (len(x_train), x_train.shape[1] * x_train.shape[2] * x_train.shape[3])\n",
        ")\n",
        "\n",
        "# TODO: the number of cluster should be adjusted using internal/external validation metrics\n",
        "N_CLUSTERS = 10\n",
        "kmeans = KMeans(n_clusters=N_CLUSTERS, random_state=0).fit(x_train_flat)\n"
      ]
    },
    {
      "cell_type": "code",
      "execution_count": 14,
      "id": "0803015f-f947-4cfc-93ea-99e61f4b5a43",
      "metadata": {
        "id": "0803015f-f947-4cfc-93ea-99e61f4b5a43"
      },
      "outputs": [],
      "source": [
        "def norm_ratios(\n",
        "    labels,\n",
        "    sum_up_to,\n",
        "    classes,\n",
        "    inclusion=True):\n",
        "    \"\"\" Given an array of classes (labels), returns an array of\n",
        "    elements per class (ratio) that sum up to a given number.\n",
        "    In other words, the sum of all returned elements is equal to\n",
        "    'sum_up_to'.\n",
        "    \"\"\"\n",
        "    labels_counts = collections.Counter(labels)    \n",
        "\n",
        "    # select a repersentative initial set of images to be annotated\n",
        "    counts = list()\n",
        "    for i in classes:\n",
        "        counts.append(labels_counts[i])\n",
        "\n",
        "    counts = np.array(counts)\n",
        "    _min = counts.min() if counts.min() > 0 else 1\n",
        "    _sum = counts.sum() if counts.sum() > 0 else 1\n",
        "    \n",
        "    counts = counts / _min\n",
        "    counts = counts / _sum\n",
        "    counts = counts * sum_up_to\n",
        "    counts = counts.astype(int)\n",
        "\n",
        "    if inclusion:\n",
        "        # to avoid smalls clusters to be left out, we add at least one element per cluster\n",
        "        counts[counts == 0] = 1\n",
        "\n",
        "    while counts.sum() != sum_up_to:\n",
        "        if counts.sum() > sum_up_to:\n",
        "            counts[counts.argmax()] = counts[counts.argmax()] - 1\n",
        "        elif counts.sum() < sum_up_to:\n",
        "            counts[counts.argmin()] = counts[counts.argmin()] + 1\n",
        "            \n",
        "    return counts"
      ]
    },
    {
      "cell_type": "code",
      "execution_count": 15,
      "id": "5787f012-6d4e-4d6d-be5c-1ec7e8303c9e",
      "metadata": {
        "id": "5787f012-6d4e-4d6d-be5c-1ec7e8303c9e",
        "outputId": "34c77823-4b32-43a4-bec8-4af87e80823d",
        "colab": {
          "base_uri": "https://localhost:8080/"
        }
      },
      "outputs": [
        {
          "output_type": "stream",
          "name": "stdout",
          "text": [
            "Images by class adjusted to sum up to the initial amount of annotated data [60 60 60 60 60 60 60 60 60 60]\n",
            "Size of initial set of annotated images 600\n"
          ]
        }
      ],
      "source": [
        "# we will use the number of elements per cluster to select the initial batch\n",
        "counts = norm_ratios(kmeans.labels_, INIT_SIZE, range(N_CLUSTERS))\n",
        "print(\"Images by class adjusted to sum up to the initial amount of annotated data\",\n",
        "      counts)\n",
        "\n",
        "set_ix = list()\n",
        "for i in range(len(counts)):\n",
        "    pos = np.where(kmeans.labels_ == i)[0]    \n",
        "    if len(pos) >= counts[i]:\n",
        "        set_ix = set_ix + np.random.choice(pos, size=counts[i], replace=False).tolist()\n",
        "    elif len(pos) > 0:\n",
        "        set_ix = set_ix + pos\n",
        "    \n",
        "annotated_ix = set_ix.copy()\n",
        "\n",
        "x_train_annotated = x_train[annotated_ix]    \n",
        "y_train_annotated = y_train[annotated_ix]\n",
        "\n",
        "print(\"Size of initial set of annotated images\", len(x_train_annotated))"
      ]
    },
    {
      "cell_type": "code",
      "execution_count": 16,
      "id": "aefa84cb-53d3-4473-b7e9-58c8641cb5a4",
      "metadata": {
        "id": "aefa84cb-53d3-4473-b7e9-58c8641cb5a4",
        "outputId": "230e0795-5c1a-4b4e-dda0-4255bcd62154",
        "colab": {
          "base_uri": "https://localhost:8080/"
        }
      },
      "outputs": [
        {
          "output_type": "stream",
          "name": "stdout",
          "text": [
            "480.0 out of 360000 forward passes done\n"
          ]
        }
      ],
      "source": [
        "active_model = tf.keras.models.Sequential([\n",
        "  tf.keras.layers.Flatten(input_shape=x_train.shape[1:]),\n",
        "  tf.keras.layers.Dense(128, activation='relu'),\n",
        "  tf.keras.layers.Dense(NUMBER_OF_CLASSES)\n",
        "])\n",
        "\n",
        "active_model.compile(\n",
        "    optimizer=tf.keras.optimizers.Adam(0.001),\n",
        "    loss=tf.keras.losses.SparseCategoricalCrossentropy(from_logits=True),\n",
        "    metrics=[tf.keras.metrics.SparseCategoricalAccuracy()],\n",
        ")\n",
        "\n",
        "active_model.fit(\n",
        "    x=x_train_annotated,\n",
        "    y=y_train_annotated,\n",
        "    batch_size=BATCH_SIZE,\n",
        "    epochs=ACTIVE_EPOCHS,\n",
        "    validation_split=VALIDATION_SPLIT,\n",
        "    verbose=0,\n",
        ")\n",
        "\n",
        "active_spent = ACTIVE_EPOCHS * (1 - VALIDATION_SPLIT) * len(x_train_annotated)\n",
        "print(active_spent, \"out of\", BUDGET, \"forward passes done\")"
      ]
    },
    {
      "cell_type": "code",
      "execution_count": 17,
      "id": "9d022236-cbb4-47ed-bab0-402474dfca93",
      "metadata": {
        "id": "9d022236-cbb4-47ed-bab0-402474dfca93",
        "outputId": "72c74c7e-dc8c-4683-bf59-e9dce448bc2f",
        "colab": {
          "base_uri": "https://localhost:8080/"
        }
      },
      "outputs": [
        {
          "output_type": "stream",
          "name": "stdout",
          "text": [
            "SparseCategoricalAccuracy 0.3456000089645386\n"
          ]
        }
      ],
      "source": [
        "_, metrics = active_model.evaluate(\n",
        "    x=x_test,\n",
        "    y=y_test,\n",
        "    verbose=0,\n",
        ")\n",
        "\n",
        "print(\"SparseCategoricalAccuracy\", metrics)\n",
        "\n",
        "active_metrics = [metrics]\n",
        "active_budget = [active_spent]\n",
        "active_annotated = [len(x_train_annotated)]"
      ]
    },
    {
      "cell_type": "markdown",
      "id": "f2ba113f-d880-4cd7-9392-5c811ea70ea9",
      "metadata": {
        "id": "f2ba113f-d880-4cd7-9392-5c811ea70ea9"
      },
      "source": [
        "**NOTE:** Should we use the test data to check instead?"
      ]
    },
    {
      "cell_type": "code",
      "execution_count": 18,
      "id": "fee5514c-6326-4c22-82e3-ffa52c4d00a5",
      "metadata": {
        "id": "fee5514c-6326-4c22-82e3-ffa52c4d00a5"
      },
      "outputs": [],
      "source": [
        "while active_spent < BUDGET:\n",
        "    preds = active_model.predict(x_train_annotated)\n",
        "    preds_class = np.argmax(preds, axis=1)\n",
        "    misclassified_relative = np.where((preds_class - y_train_annotated)!=0)\n",
        "    misclassified_pos = np.take(annotated_ix, misclassified_relative)\n",
        "    misclassified_cluster_no = np.take(kmeans.labels_, misclassified_pos)\n",
        "\n",
        "    # compute ratio of misclassified classes\n",
        "    counts_active = norm_ratios(misclassified_cluster_no.ravel(), BATCH_SIZE, range(N_CLUSTERS))\n",
        "    # print(\"Misclasification by class adjusted to sum up to a batch\", counts_active)\n",
        "\n",
        "    # select new images to annotate with the given ratios\n",
        "    ix_pool = np.delete(range(len(x_train)), annotated_ix)\n",
        "    weak_labels_ix_pool = np.delete(kmeans.labels_, annotated_ix)\n",
        "\n",
        "    set_ix = list()\n",
        "    for i in range(len(counts_active)):\n",
        "        pos = np.where(weak_labels_ix_pool == i)[0]                    \n",
        "        if len(pos) >= counts_active[i]:\n",
        "            set_ix = set_ix + np.random.choice(\n",
        "                ix_pool[pos], \n",
        "                size=counts_active[i], \n",
        "                replace=False).tolist()\n",
        "        elif len(pos) > 0:\n",
        "            set_ix = set_ix + ix_pool[pos]        \n",
        "\n",
        "    # print(\"Adding\", len(set_ix), \"annotated images\")\n",
        "\n",
        "    annotated_ix = annotated_ix + set_ix\n",
        "\n",
        "    x_train_annotated = x_train[annotated_ix]    \n",
        "    y_train_annotated = y_train[annotated_ix]\n",
        "\n",
        "    # print(\"Current size of set of annotated images\", len(x_train_annotated))\n",
        "    \n",
        "    active_model.fit(\n",
        "        x=x_train_annotated,\n",
        "        y=y_train_annotated,\n",
        "        batch_size=BATCH_SIZE,\n",
        "        epochs=ACTIVE_EPOCHS,\n",
        "        validation_split=VALIDATION_SPLIT,\n",
        "        verbose=0,\n",
        "    )\n",
        "\n",
        "    _, metrics = active_model.evaluate(\n",
        "        x=x_test,\n",
        "        y=y_test,\n",
        "        verbose=0,\n",
        "    )\n",
        "\n",
        "    # print(\"SparseCategoricalAccuracy\", metrics)\n",
        "\n",
        "    active_metrics.append(metrics)\n",
        "    active_spent = active_spent + ACTIVE_EPOCHS * (1 - VALIDATION_SPLIT) * len(x_train_annotated)\n",
        "    # print(random_spent, \"out of\", BUDGET, \"forward passes done\")\n",
        "    active_budget.append(active_spent)\n",
        "    active_annotated.append(len(x_train_annotated))"
      ]
    },
    {
      "cell_type": "markdown",
      "id": "837c260b-9cdd-4742-b8c3-eca19b788ed7",
      "metadata": {
        "id": "837c260b-9cdd-4742-b8c3-eca19b788ed7"
      },
      "source": [
        "## Results Compared\n",
        "\n",
        "First, as a sanity check, we train from *scratch* the same model using the annotated data."
      ]
    },
    {
      "cell_type": "code",
      "execution_count": 19,
      "id": "39ed047f-8b30-46cc-a05f-4622d4a6068d",
      "metadata": {
        "id": "39ed047f-8b30-46cc-a05f-4622d4a6068d",
        "outputId": "92081cfa-2ad0-48b8-950e-2a46a7ee2951",
        "colab": {
          "base_uri": "https://localhost:8080/"
        }
      },
      "outputs": [
        {
          "output_type": "stream",
          "name": "stdout",
          "text": [
            "SparseCategoricalAccuracy 0.9538000226020813\n"
          ]
        }
      ],
      "source": [
        "cmp_epochs = int(BUDGET / len(x_train_annotated))\n",
        "\n",
        "cmp_model = tf.keras.models.Sequential([\n",
        "  tf.keras.layers.Flatten(input_shape=x_train.shape[1:]),\n",
        "  tf.keras.layers.Dense(128, activation='relu'),\n",
        "  tf.keras.layers.Dense(NUMBER_OF_CLASSES)\n",
        "])\n",
        "\n",
        "cmp_model.compile(\n",
        "    optimizer=tf.keras.optimizers.Adam(0.001),\n",
        "    loss=tf.keras.losses.SparseCategoricalCrossentropy(from_logits=True),\n",
        "    metrics=[tf.keras.metrics.SparseCategoricalAccuracy()],\n",
        ")\n",
        "\n",
        "cmp_model.fit(\n",
        "    x=x_train_annotated,\n",
        "    y=y_train_annotated,\n",
        "    batch_size=BATCH_SIZE,\n",
        "    epochs=cmp_epochs,\n",
        "    validation_split=VALIDATION_SPLIT,\n",
        "    verbose=0,\n",
        ")\n",
        "\n",
        "_, cmp_metrics = cmp_model.evaluate(\n",
        "    x=x_test,\n",
        "    y=y_test,\n",
        "    verbose=0,\n",
        ")\n",
        "\n",
        "print(\"SparseCategoricalAccuracy\", cmp_metrics)"
      ]
    },
    {
      "cell_type": "code",
      "execution_count": 20,
      "id": "ced8f1c9-82a7-4919-9455-b1cc40dbb221",
      "metadata": {
        "id": "ced8f1c9-82a7-4919-9455-b1cc40dbb221",
        "outputId": "73dc9f2d-337e-4daf-918d-25ed91b984b5",
        "colab": {
          "base_uri": "https://localhost:8080/"
        }
      },
      "outputs": [
        {
          "output_type": "stream",
          "name": "stdout",
          "text": [
            "Baseline (100% data) 0.9707000255584717\n",
            "Baseline ( 17 % data) 0.9538000226020813\n",
            "Random ( 17 % data) 0.8932999968528748\n",
            "Active ( 17 % data) 0.9524000287055969\n"
          ]
        }
      ],
      "source": [
        "annotated_perc = len(x_train_annotated) / len(x_train)\n",
        "annotated_perc = int(annotated_perc * 100)\n",
        "\n",
        "print('Baseline (100% data)', baseline_metrics)\n",
        "print('Baseline (', annotated_perc, '% data)', cmp_metrics)\n",
        "print('Random (', annotated_perc, '% data)',random_metrics[-1])\n",
        "print('Active (', annotated_perc, '% data)',active_metrics[-1])"
      ]
    },
    {
      "cell_type": "markdown",
      "id": "b31b640c-a942-4a34-87e5-970aae5ad7e8",
      "metadata": {
        "id": "b31b640c-a942-4a34-87e5-970aae5ad7e8"
      },
      "source": [
        "The following plot shows the accuracy on test achieved by the model after *n* forward passess (training) using the active selection approach (*green*), and the random approach (*blue*). The solid red line shows the accuracy achieved by the model using 100% of the trianing data and the *annotated* data (*yellow*) after trianing for an equivalent time (i.e. the same number of forward passess) from scratch."
      ]
    },
    {
      "cell_type": "code",
      "execution_count": 21,
      "id": "08138552-4ac2-49c9-8d93-02afe3e8de83",
      "metadata": {
        "id": "08138552-4ac2-49c9-8d93-02afe3e8de83",
        "outputId": "d2c2c3af-9e82-4526-f32c-9b8f2445ed6a",
        "colab": {
          "base_uri": "https://localhost:8080/",
          "height": 0
        }
      },
      "outputs": [
        {
          "output_type": "execute_result",
          "data": {
            "text/plain": [
              "<matplotlib.lines.Line2D at 0x7f7d38413f10>"
            ]
          },
          "metadata": {},
          "execution_count": 21
        },
        {
          "output_type": "display_data",
          "data": {
            "text/plain": [
              "<Figure size 432x288 with 1 Axes>"
            ],
            "image/png": "[encoded data removed]"
          },
          "metadata": {
            "needs_background": "light"
          }
        }
      ],
      "source": [
        "if np.sum(np.array(random_budget) - np.array(active_budget)) != 0:\n",
        "    print(\"Error: The random and active budgets do not match\")\n",
        "\n",
        "if np.sum(np.array(random_annotated) - np.array(active_annotated)) != 0:\n",
        "    print(\"Error: The random and active annotated counts do not match\")\n",
        "\n",
        "plt.plot(random_budget, random_metrics, color='blue')\n",
        "plt.plot(active_budget, active_metrics, color='green')\n",
        "plt.axhline(baseline_metrics, color='r')\n",
        "plt.axhline(cmp_metrics, color='y')"
      ]
    },
    {
      "cell_type": "markdown",
      "id": "89725f33-b1f8-42b0-89b2-92eb7746521d",
      "metadata": {
        "id": "89725f33-b1f8-42b0-89b2-92eb7746521d"
      },
      "source": [
        "The following plot shows the accuracy on test achieved by the model usign *x*% of annotated training data with the active selection approach (*green*) and random (*blue*). The solid red line shows the accuracy achieved by the model using 100% of the trianing data and the *annotated* data (*yellow*) after trianing for an equivalent time (i.e. the same number of forward passess) from scratch."
      ]
    },
    {
      "cell_type": "code",
      "execution_count": 22,
      "id": "1aee3ff3-ba51-4f9f-90ba-c7317fee8641",
      "metadata": {
        "id": "1aee3ff3-ba51-4f9f-90ba-c7317fee8641",
        "outputId": "472fb520-07cd-41bc-cddc-ef7880ce833f",
        "colab": {
          "base_uri": "https://localhost:8080/",
          "height": 0
        }
      },
      "outputs": [
        {
          "output_type": "execute_result",
          "data": {
            "text/plain": [
              "<matplotlib.lines.Line2D at 0x7f7d35d1a150>"
            ]
          },
          "metadata": {},
          "execution_count": 22
        },
        {
          "output_type": "display_data",
          "data": {
            "text/plain": [
              "<Figure size 432x288 with 1 Axes>"
            ],
            "image/png": "[encoded data removed]"
          },
          "metadata": {
            "needs_background": "light"
          }
        }
      ],
      "source": [
        "plt.plot(random_annotated_perc, random_metrics, color='b')\n",
        "plt.plot(random_annotated_perc, active_metrics, color='g')\n",
        "plt.axhline(baseline_metrics, color='r')\n",
        "plt.axhline(cmp_metrics, color='y')\n",
        "plt.axhline(baseline_metrics*0.9, color='r', linestyle='dashed')"
      ]
    },
    {
      "cell_type": "code",
      "execution_count": 23,
      "id": "a6081a1f-3895-4bfa-80c8-eff80ea863c6",
      "metadata": {
        "id": "a6081a1f-3895-4bfa-80c8-eff80ea863c6",
        "outputId": "7f26cee7-bbb4-472f-c512-e47ab7222d1f",
        "colab": {
          "base_uri": "https://localhost:8080/"
        }
      },
      "outputs": [
        {
          "output_type": "execute_result",
          "data": {
            "text/plain": [
              "1624"
            ]
          },
          "metadata": {},
          "execution_count": 23
        }
      ],
      "source": [
        "p90 = np.min(np.where(np.array(active_metrics) > baseline_metrics*0.9))\n",
        "active_annotated[p90]"
      ]
    },
    {
      "cell_type": "markdown",
      "id": "e52ff348-975f-468d-ab50-23e35fcd7354",
      "metadata": {
        "id": "e52ff348-975f-468d-ab50-23e35fcd7354"
      },
      "source": [
        "# Achieve P% Accuracy"
      ]
    },
    {
      "cell_type": "code",
      "execution_count": 24,
      "id": "1a8852fc-b0f9-4159-935d-25398502ccd6",
      "metadata": {
        "id": "1a8852fc-b0f9-4159-935d-25398502ccd6",
        "outputId": "0ed0ff14-c0d2-4ff5-ed8e-c6c454f5a462",
        "colab": {
          "base_uri": "https://localhost:8080/"
        }
      },
      "outputs": [
        {
          "output_type": "stream",
          "name": "stdout",
          "text": [
            "Target accuracy 0.8736300230026245 ( 0.9 %)\n"
          ]
        }
      ],
      "source": [
        "P = 0.9\n",
        "target_accuracy = baseline_metrics * P\n",
        "print('Target accuracy', target_accuracy, '(', P, '%)')"
      ]
    },
    {
      "cell_type": "code",
      "execution_count": 25,
      "id": "e6b59fc6-b5a6-4224-8868-d052f2e668a4",
      "metadata": {
        "id": "e6b59fc6-b5a6-4224-8868-d052f2e668a4"
      },
      "outputs": [],
      "source": [
        "def auto_cluster_size(\n",
        "    x_train_flat,\n",
        "    max_n_clusters):\n",
        "    \"\"\" Set automatically the optimal number of clusters\n",
        "    \"\"\"\n",
        "    print(\"Warning: The automatic setting of the number of clusters is not yet implemented\")\n",
        "    return max_n_clusters"
      ]
    },
    {
      "cell_type": "code",
      "execution_count": 26,
      "id": "ad9d298e-7c3f-4c78-955a-4390f4e4f0dd",
      "metadata": {
        "id": "ad9d298e-7c3f-4c78-955a-4390f4e4f0dd"
      },
      "outputs": [],
      "source": [
        "def samp_var_acquisition_fn(\n",
        "    x_train_annotated,\n",
        "    y_train_annotated,\n",
        "    x_test_not_annotated,\n",
        "    sample_size):\n",
        "    \"\"\" work-in-progress\n",
        "    \"\"\"\n",
        "    if sample_size <= 0:\n",
        "        return np.array([])\n",
        "    \n",
        "    if len(x_train_annotated) == 0:\n",
        "        return np.random.choice(\n",
        "            range(len(x_test_not_annotated)), \n",
        "            size=sample_size, \n",
        "            replace=False)\n",
        "    \n",
        "    rf = RandomForestClassifier(random_state=0)\n",
        "    rf.fit(x_train_annotated, y_train_annotated)\n",
        "    # y_pred = rf.predict(x_test_not_annotated)\n",
        "    unbiased_samp_var = fci.random_forest_error(rf, x_train_annotated, x_test_not_annotated)    \n",
        "    #ix_samples = np.argpartition(unbiased_samp_var, \n",
        "    #                             (len(unbiased_samp_var) - sample_size))[-sample_size:]\n",
        "    ix_samples = np.argpartition(unbiased_samp_var, sample_size)[:sample_size]\n",
        "    \n",
        "    return ix_samples"
      ]
    },
    {
      "cell_type": "code",
      "execution_count": 27,
      "id": "4f917deb-d821-468b-b9e7-a2236eb2e030",
      "metadata": {
        "id": "4f917deb-d821-468b-b9e7-a2236eb2e030"
      },
      "outputs": [],
      "source": [
        "def active_cluster(\n",
        "    x_train,\n",
        "    y_train,\n",
        "    p_batch_size,\n",
        "    p_epochs,\n",
        "    p_init,\n",
        "    max_n_clusters,\n",
        "    target_accuracy,\n",
        "    custom_acquisition_fn=None):\n",
        "    \"\"\"\n",
        "    \"\"\"\n",
        "    x_train_flat = np.reshape(\n",
        "        x_train, \n",
        "        (len(x_train), x_train.shape[1] * x_train.shape[2] * x_train.shape[3])\n",
        "    )\n",
        "    \n",
        "    n_clusters = auto_cluster_size(x_train_flat, max_n_clusters)\n",
        "    p_kmeans = KMeans(n_clusters=n_clusters, random_state=0).fit(x_train_flat)\n",
        "    \n",
        "    # we will use the number of elements per cluster to select the initial batch\n",
        "    counts = norm_ratios(p_kmeans.labels_, p_init, range(n_clusters))\n",
        "\n",
        "    set_ix = list()\n",
        "    for i in range(len(counts)):\n",
        "        pos = np.where(p_kmeans.labels_ == i)[0]\n",
        "        set_ix = set_ix + np.random.choice(pos, size=counts[i], replace=False).tolist()\n",
        "\n",
        "    annotated_ix = set_ix.copy()\n",
        "\n",
        "    x_train_annotated = x_train[annotated_ix]    \n",
        "    y_train_annotated = y_train[annotated_ix]\n",
        "\n",
        "    p_model = tf.keras.models.Sequential([\n",
        "      tf.keras.layers.Flatten(input_shape=x_train.shape[1:]),\n",
        "      tf.keras.layers.Dense(128, activation='relu'),\n",
        "      tf.keras.layers.Dense(NUMBER_OF_CLASSES)\n",
        "    ])\n",
        "    \n",
        "    p_model.compile(\n",
        "        optimizer=tf.keras.optimizers.Adam(0.001),\n",
        "        loss=tf.keras.losses.SparseCategoricalCrossentropy(from_logits=True),\n",
        "        metrics=[tf.keras.metrics.SparseCategoricalAccuracy()],\n",
        "    )\n",
        "\n",
        "    p_model.fit(\n",
        "        x=x_train_annotated,\n",
        "        y=y_train_annotated,\n",
        "        batch_size=p_batch_size,\n",
        "        epochs=p_epochs,\n",
        "        validation_split=VALIDATION_SPLIT,\n",
        "        verbose=0,\n",
        "    )\n",
        "\n",
        "    p_spent = p_epochs * (1 - VALIDATION_SPLIT) * len(x_train_annotated)\n",
        "\n",
        "    _, metrics = p_model.evaluate(\n",
        "        x=x_test,\n",
        "        y=y_test,\n",
        "        verbose=0,\n",
        "    )\n",
        "\n",
        "    p_metrics = [metrics]\n",
        "    p_budget = [p_spent]\n",
        "    p_annotated = [len(x_train_annotated)]\n",
        "\n",
        "    while p_metrics[-1] < target_accuracy:\n",
        "        \n",
        "        # TODO: try alternative balancing methods, e.g.,\n",
        "        # weak label distribution, match between weak and real label, ...\n",
        "        preds = p_model.predict(x_train_annotated)\n",
        "        preds_class = np.argmax(preds, axis=1)\n",
        "        misclassified_relative = np.where((preds_class - y_train_annotated)!=0)\n",
        "        misclassified_pos = np.take(annotated_ix, misclassified_relative)\n",
        "        misclassified_cluster_no = np.take(p_kmeans.labels_, misclassified_pos)\n",
        "\n",
        "        # compute ratio of misclassified classes\n",
        "        #counts_active = norm_ratios(\n",
        "        #    misclassified_cluster_no.ravel(), \n",
        "        #    p_batch_size,\n",
        "        #    range(n_clusters),\n",
        "        #    inclusion=False)        \n",
        "        # TODO do this switch using a function\n",
        "        counts_active = norm_ratios(p_kmeans.labels_, p_batch_size, range(n_clusters))\n",
        "\n",
        "        # select new images to annotate with the given ratios\n",
        "        ix_pool = np.delete(range(len(x_train)), annotated_ix)\n",
        "        weak_labels_ix_pool = np.delete(p_kmeans.labels_, annotated_ix)\n",
        "\n",
        "        set_ix = list()\n",
        "        for i in range(len(counts_active)):\n",
        "            pos = np.where(weak_labels_ix_pool == i)[0]                    \n",
        "            if len(pos) >= counts_active[i]:\n",
        "                if custom_acquisition_fn:\n",
        "                    # results are relative to input positions\n",
        "                    tmp_ix = custom_acquisition_fn(\n",
        "                        x_train_flat[annotated_ix], #TODO: filter by weakclass\n",
        "                        y_train_annotated,\n",
        "                        x_train_flat[ix_pool[pos]],\n",
        "                        counts_active[i])\n",
        "                    # thus, we select from the original indices\n",
        "                    if len(tmp_ix) > 0:\n",
        "                        set_ix = set_ix + ix_pool[pos][tmp_ix].tolist()\n",
        "                else:\n",
        "                    set_ix = set_ix + np.random.choice(\n",
        "                        ix_pool[pos], \n",
        "                        size=counts_active[i], \n",
        "                        replace=False).tolist()\n",
        "            elif len(pos) > 0:\n",
        "                set_ix = set_ix + ix_pool[pos].tolist()    \n",
        "\n",
        "        annotated_ix = annotated_ix + set_ix\n",
        "\n",
        "        x_train_annotated = x_train[annotated_ix]    \n",
        "        y_train_annotated = y_train[annotated_ix]\n",
        "\n",
        "        p_model.fit(\n",
        "            x=x_train_annotated,\n",
        "            y=y_train_annotated,\n",
        "            batch_size=p_batch_size,\n",
        "            epochs=p_epochs,\n",
        "            validation_split=VALIDATION_SPLIT,\n",
        "            verbose=0,\n",
        "        )\n",
        "\n",
        "        _, metrics = p_model.evaluate(\n",
        "            x=x_test,\n",
        "            y=y_test,\n",
        "            verbose=0,\n",
        "        )\n",
        "\n",
        "        p_metrics.append(metrics)\n",
        "        p_spent = p_spent + p_epochs * (1 - VALIDATION_SPLIT) * len(x_train_annotated)    \n",
        "        p_budget.append(p_spent)\n",
        "        p_annotated.append(len(x_train_annotated))\n",
        "\n",
        "        if len(p_metrics) % 20 == 0:\n",
        "            print(p_metrics[-1], p_annotated[-1])\n",
        "            \n",
        "    return p_metrics, p_budget, p_annotated\n"
      ]
    },
    {
      "cell_type": "code",
      "execution_count": 28,
      "id": "79c0649a-cc1c-4188-92a8-59f266e8714f",
      "metadata": {
        "id": "79c0649a-cc1c-4188-92a8-59f266e8714f",
        "outputId": "841070e4-8d07-4f06-a198-08dc1542a1f7",
        "colab": {
          "base_uri": "https://localhost:8080/",
          "height": 432
        }
      },
      "outputs": [
        {
          "output_type": "stream",
          "name": "stdout",
          "text": [
            "Warning: The automatic setting of the number of clusters is not yet implemented\n",
            "0.8065999746322632 210\n",
            "0.8471999764442444 410\n"
          ]
        },
        {
          "output_type": "error",
          "ename": "KeyboardInterrupt",
          "evalue": "ignored",
          "traceback": [
            "\u001b[0;31m---------------------------------------------------------------------------\u001b[0m",
            "\u001b[0;31mKeyboardInterrupt\u001b[0m                         Traceback (most recent call last)",
            "\u001b[0;32m<ipython-input-28-e587a0429991>\u001b[0m in \u001b[0;36m<module>\u001b[0;34m()\u001b[0m\n\u001b[1;32m      7\u001b[0m     \u001b[0mp_init\u001b[0m\u001b[0;34m=\u001b[0m\u001b[0;36m20\u001b[0m\u001b[0;34m,\u001b[0m\u001b[0;34m\u001b[0m\u001b[0;34m\u001b[0m\u001b[0m\n\u001b[1;32m      8\u001b[0m     \u001b[0mmax_n_clusters\u001b[0m\u001b[0;34m=\u001b[0m\u001b[0;36m10\u001b[0m\u001b[0;34m,\u001b[0m\u001b[0;34m\u001b[0m\u001b[0;34m\u001b[0m\u001b[0m\n\u001b[0;32m----> 9\u001b[0;31m     target_accuracy=target_accuracy,)\n\u001b[0m\u001b[1;32m     10\u001b[0m \u001b[0;34m\u001b[0m\u001b[0m\n\u001b[1;32m     11\u001b[0m \u001b[0mplt\u001b[0m\u001b[0;34m.\u001b[0m\u001b[0mplot\u001b[0m\u001b[0;34m(\u001b[0m\u001b[0mr0\u001b[0m\u001b[0;34m[\u001b[0m\u001b[0;36m2\u001b[0m\u001b[0;34m]\u001b[0m\u001b[0;34m,\u001b[0m \u001b[0mr0\u001b[0m\u001b[0;34m[\u001b[0m\u001b[0;36m0\u001b[0m\u001b[0;34m]\u001b[0m\u001b[0;34m,\u001b[0m \u001b[0mcolor\u001b[0m\u001b[0;34m=\u001b[0m\u001b[0;34m'b'\u001b[0m\u001b[0;34m)\u001b[0m\u001b[0;34m\u001b[0m\u001b[0;34m\u001b[0m\u001b[0m\n",
            "\u001b[0;32m<ipython-input-27-43a939b55c99>\u001b[0m in \u001b[0;36mactive_cluster\u001b[0;34m(x_train, y_train, p_batch_size, p_epochs, p_init, max_n_clusters, target_accuracy, custom_acquisition_fn)\u001b[0m\n\u001b[1;32m    126\u001b[0m             \u001b[0mx\u001b[0m\u001b[0;34m=\u001b[0m\u001b[0mx_test\u001b[0m\u001b[0;34m,\u001b[0m\u001b[0;34m\u001b[0m\u001b[0;34m\u001b[0m\u001b[0m\n\u001b[1;32m    127\u001b[0m             \u001b[0my\u001b[0m\u001b[0;34m=\u001b[0m\u001b[0my_test\u001b[0m\u001b[0;34m,\u001b[0m\u001b[0;34m\u001b[0m\u001b[0;34m\u001b[0m\u001b[0m\n\u001b[0;32m--> 128\u001b[0;31m             \u001b[0mverbose\u001b[0m\u001b[0;34m=\u001b[0m\u001b[0;36m0\u001b[0m\u001b[0;34m,\u001b[0m\u001b[0;34m\u001b[0m\u001b[0;34m\u001b[0m\u001b[0m\n\u001b[0m\u001b[1;32m    129\u001b[0m         )\n\u001b[1;32m    130\u001b[0m \u001b[0;34m\u001b[0m\u001b[0m\n",
            "\u001b[0;32m/usr/local/lib/python3.7/dist-packages/keras/utils/traceback_utils.py\u001b[0m in \u001b[0;36merror_handler\u001b[0;34m(*args, **kwargs)\u001b[0m\n\u001b[1;32m     62\u001b[0m     \u001b[0mfiltered_tb\u001b[0m \u001b[0;34m=\u001b[0m \u001b[0;32mNone\u001b[0m\u001b[0;34m\u001b[0m\u001b[0;34m\u001b[0m\u001b[0m\n\u001b[1;32m     63\u001b[0m     \u001b[0;32mtry\u001b[0m\u001b[0;34m:\u001b[0m\u001b[0;34m\u001b[0m\u001b[0;34m\u001b[0m\u001b[0m\n\u001b[0;32m---> 64\u001b[0;31m       \u001b[0;32mreturn\u001b[0m \u001b[0mfn\u001b[0m\u001b[0;34m(\u001b[0m\u001b[0;34m*\u001b[0m\u001b[0margs\u001b[0m\u001b[0;34m,\u001b[0m \u001b[0;34m**\u001b[0m\u001b[0mkwargs\u001b[0m\u001b[0;34m)\u001b[0m\u001b[0;34m\u001b[0m\u001b[0;34m\u001b[0m\u001b[0m\n\u001b[0m\u001b[1;32m     65\u001b[0m     \u001b[0;32mexcept\u001b[0m \u001b[0mException\u001b[0m \u001b[0;32mas\u001b[0m \u001b[0me\u001b[0m\u001b[0;34m:\u001b[0m  \u001b[0;31m# pylint: disable=broad-except\u001b[0m\u001b[0;34m\u001b[0m\u001b[0;34m\u001b[0m\u001b[0m\n\u001b[1;32m     66\u001b[0m       \u001b[0mfiltered_tb\u001b[0m \u001b[0;34m=\u001b[0m \u001b[0m_process_traceback_frames\u001b[0m\u001b[0;34m(\u001b[0m\u001b[0me\u001b[0m\u001b[0;34m.\u001b[0m\u001b[0m__traceback__\u001b[0m\u001b[0;34m)\u001b[0m\u001b[0;34m\u001b[0m\u001b[0;34m\u001b[0m\u001b[0m\n",
            "\u001b[0;32m/usr/local/lib/python3.7/dist-packages/keras/engine/training.py\u001b[0m in \u001b[0;36mevaluate\u001b[0;34m(self, x, y, batch_size, verbose, sample_weight, steps, callbacks, max_queue_size, workers, use_multiprocessing, return_dict, **kwargs)\u001b[0m\n\u001b[1;32m   1714\u001b[0m             \u001b[0;32mwith\u001b[0m \u001b[0mtf\u001b[0m\u001b[0;34m.\u001b[0m\u001b[0mprofiler\u001b[0m\u001b[0;34m.\u001b[0m\u001b[0mexperimental\u001b[0m\u001b[0;34m.\u001b[0m\u001b[0mTrace\u001b[0m\u001b[0;34m(\u001b[0m\u001b[0;34m'test'\u001b[0m\u001b[0;34m,\u001b[0m \u001b[0mstep_num\u001b[0m\u001b[0;34m=\u001b[0m\u001b[0mstep\u001b[0m\u001b[0;34m,\u001b[0m \u001b[0m_r\u001b[0m\u001b[0;34m=\u001b[0m\u001b[0;36m1\u001b[0m\u001b[0;34m)\u001b[0m\u001b[0;34m:\u001b[0m\u001b[0;34m\u001b[0m\u001b[0;34m\u001b[0m\u001b[0m\n\u001b[1;32m   1715\u001b[0m               \u001b[0mcallbacks\u001b[0m\u001b[0;34m.\u001b[0m\u001b[0mon_test_batch_begin\u001b[0m\u001b[0;34m(\u001b[0m\u001b[0mstep\u001b[0m\u001b[0;34m)\u001b[0m\u001b[0;34m\u001b[0m\u001b[0;34m\u001b[0m\u001b[0m\n\u001b[0;32m-> 1716\u001b[0;31m               \u001b[0mtmp_logs\u001b[0m \u001b[0;34m=\u001b[0m \u001b[0mself\u001b[0m\u001b[0;34m.\u001b[0m\u001b[0mtest_function\u001b[0m\u001b[0;34m(\u001b[0m\u001b[0miterator\u001b[0m\u001b[0;34m)\u001b[0m\u001b[0;34m\u001b[0m\u001b[0;34m\u001b[0m\u001b[0m\n\u001b[0m\u001b[1;32m   1717\u001b[0m               \u001b[0;32mif\u001b[0m \u001b[0mdata_handler\u001b[0m\u001b[0;34m.\u001b[0m\u001b[0mshould_sync\u001b[0m\u001b[0;34m:\u001b[0m\u001b[0;34m\u001b[0m\u001b[0;34m\u001b[0m\u001b[0m\n\u001b[1;32m   1718\u001b[0m                 \u001b[0mcontext\u001b[0m\u001b[0;34m.\u001b[0m\u001b[0masync_wait\u001b[0m\u001b[0;34m(\u001b[0m\u001b[0;34m)\u001b[0m\u001b[0;34m\u001b[0m\u001b[0;34m\u001b[0m\u001b[0m\n",
            "\u001b[0;32m/usr/local/lib/python3.7/dist-packages/tensorflow/python/util/traceback_utils.py\u001b[0m in \u001b[0;36merror_handler\u001b[0;34m(*args, **kwargs)\u001b[0m\n\u001b[1;32m    148\u001b[0m     \u001b[0mfiltered_tb\u001b[0m \u001b[0;34m=\u001b[0m \u001b[0;32mNone\u001b[0m\u001b[0;34m\u001b[0m\u001b[0;34m\u001b[0m\u001b[0m\n\u001b[1;32m    149\u001b[0m     \u001b[0;32mtry\u001b[0m\u001b[0;34m:\u001b[0m\u001b[0;34m\u001b[0m\u001b[0;34m\u001b[0m\u001b[0m\n\u001b[0;32m--> 150\u001b[0;31m       \u001b[0;32mreturn\u001b[0m \u001b[0mfn\u001b[0m\u001b[0;34m(\u001b[0m\u001b[0;34m*\u001b[0m\u001b[0margs\u001b[0m\u001b[0;34m,\u001b[0m \u001b[0;34m**\u001b[0m\u001b[0mkwargs\u001b[0m\u001b[0;34m)\u001b[0m\u001b[0;34m\u001b[0m\u001b[0;34m\u001b[0m\u001b[0m\n\u001b[0m\u001b[1;32m    151\u001b[0m     \u001b[0;32mexcept\u001b[0m \u001b[0mException\u001b[0m \u001b[0;32mas\u001b[0m \u001b[0me\u001b[0m\u001b[0;34m:\u001b[0m\u001b[0;34m\u001b[0m\u001b[0;34m\u001b[0m\u001b[0m\n\u001b[1;32m    152\u001b[0m       \u001b[0mfiltered_tb\u001b[0m \u001b[0;34m=\u001b[0m \u001b[0m_process_traceback_frames\u001b[0m\u001b[0;34m(\u001b[0m\u001b[0me\u001b[0m\u001b[0;34m.\u001b[0m\u001b[0m__traceback__\u001b[0m\u001b[0;34m)\u001b[0m\u001b[0;34m\u001b[0m\u001b[0;34m\u001b[0m\u001b[0m\n",
            "\u001b[0;32m/usr/local/lib/python3.7/dist-packages/tensorflow/python/eager/def_function.py\u001b[0m in \u001b[0;36m__call__\u001b[0;34m(self, *args, **kwds)\u001b[0m\n\u001b[1;32m    913\u001b[0m \u001b[0;34m\u001b[0m\u001b[0m\n\u001b[1;32m    914\u001b[0m       \u001b[0;32mwith\u001b[0m \u001b[0mOptionalXlaContext\u001b[0m\u001b[0;34m(\u001b[0m\u001b[0mself\u001b[0m\u001b[0;34m.\u001b[0m\u001b[0m_jit_compile\u001b[0m\u001b[0;34m)\u001b[0m\u001b[0;34m:\u001b[0m\u001b[0;34m\u001b[0m\u001b[0;34m\u001b[0m\u001b[0m\n\u001b[0;32m--> 915\u001b[0;31m         \u001b[0mresult\u001b[0m \u001b[0;34m=\u001b[0m \u001b[0mself\u001b[0m\u001b[0;34m.\u001b[0m\u001b[0m_call\u001b[0m\u001b[0;34m(\u001b[0m\u001b[0;34m*\u001b[0m\u001b[0margs\u001b[0m\u001b[0;34m,\u001b[0m \u001b[0;34m**\u001b[0m\u001b[0mkwds\u001b[0m\u001b[0;34m)\u001b[0m\u001b[0;34m\u001b[0m\u001b[0;34m\u001b[0m\u001b[0m\n\u001b[0m\u001b[1;32m    916\u001b[0m \u001b[0;34m\u001b[0m\u001b[0m\n\u001b[1;32m    917\u001b[0m       \u001b[0mnew_tracing_count\u001b[0m \u001b[0;34m=\u001b[0m \u001b[0mself\u001b[0m\u001b[0;34m.\u001b[0m\u001b[0mexperimental_get_tracing_count\u001b[0m\u001b[0;34m(\u001b[0m\u001b[0;34m)\u001b[0m\u001b[0;34m\u001b[0m\u001b[0;34m\u001b[0m\u001b[0m\n",
            "\u001b[0;32m/usr/local/lib/python3.7/dist-packages/tensorflow/python/eager/def_function.py\u001b[0m in \u001b[0;36m_call\u001b[0;34m(self, *args, **kwds)\u001b[0m\n\u001b[1;32m    952\u001b[0m       \u001b[0;31m# In this case we have not created variables on the first call. So we can\u001b[0m\u001b[0;34m\u001b[0m\u001b[0;34m\u001b[0m\u001b[0;34m\u001b[0m\u001b[0m\n\u001b[1;32m    953\u001b[0m       \u001b[0;31m# run the first trace but we should fail if variables are created.\u001b[0m\u001b[0;34m\u001b[0m\u001b[0;34m\u001b[0m\u001b[0;34m\u001b[0m\u001b[0m\n\u001b[0;32m--> 954\u001b[0;31m       \u001b[0mresults\u001b[0m \u001b[0;34m=\u001b[0m \u001b[0mself\u001b[0m\u001b[0;34m.\u001b[0m\u001b[0m_stateful_fn\u001b[0m\u001b[0;34m(\u001b[0m\u001b[0;34m*\u001b[0m\u001b[0margs\u001b[0m\u001b[0;34m,\u001b[0m \u001b[0;34m**\u001b[0m\u001b[0mkwds\u001b[0m\u001b[0;34m)\u001b[0m\u001b[0;34m\u001b[0m\u001b[0;34m\u001b[0m\u001b[0m\n\u001b[0m\u001b[1;32m    955\u001b[0m       \u001b[0;32mif\u001b[0m \u001b[0mself\u001b[0m\u001b[0;34m.\u001b[0m\u001b[0m_created_variables\u001b[0m \u001b[0;32mand\u001b[0m \u001b[0;32mnot\u001b[0m \u001b[0mALLOW_DYNAMIC_VARIABLE_CREATION\u001b[0m\u001b[0;34m:\u001b[0m\u001b[0;34m\u001b[0m\u001b[0;34m\u001b[0m\u001b[0m\n\u001b[1;32m    956\u001b[0m         raise ValueError(\"Creating variables on a non-first call to a function\"\n",
            "\u001b[0;32m/usr/local/lib/python3.7/dist-packages/tensorflow/python/eager/function.py\u001b[0m in \u001b[0;36m__call__\u001b[0;34m(self, *args, **kwargs)\u001b[0m\n\u001b[1;32m   2955\u001b[0m        filtered_flat_args) = self._maybe_define_function(args, kwargs)\n\u001b[1;32m   2956\u001b[0m     return graph_function._call_flat(\n\u001b[0;32m-> 2957\u001b[0;31m         filtered_flat_args, captured_inputs=graph_function.captured_inputs)  # pylint: disable=protected-access\n\u001b[0m\u001b[1;32m   2958\u001b[0m \u001b[0;34m\u001b[0m\u001b[0m\n\u001b[1;32m   2959\u001b[0m   \u001b[0;34m@\u001b[0m\u001b[0mproperty\u001b[0m\u001b[0;34m\u001b[0m\u001b[0;34m\u001b[0m\u001b[0m\n",
            "\u001b[0;32m/usr/local/lib/python3.7/dist-packages/tensorflow/python/eager/function.py\u001b[0m in \u001b[0;36m_call_flat\u001b[0;34m(self, args, captured_inputs, cancellation_manager)\u001b[0m\n\u001b[1;32m   1852\u001b[0m       \u001b[0;31m# No tape is watching; skip to running the function.\u001b[0m\u001b[0;34m\u001b[0m\u001b[0;34m\u001b[0m\u001b[0;34m\u001b[0m\u001b[0m\n\u001b[1;32m   1853\u001b[0m       return self._build_call_outputs(self._inference_function.call(\n\u001b[0;32m-> 1854\u001b[0;31m           ctx, args, cancellation_manager=cancellation_manager))\n\u001b[0m\u001b[1;32m   1855\u001b[0m     forward_backward = self._select_forward_and_backward_functions(\n\u001b[1;32m   1856\u001b[0m         \u001b[0margs\u001b[0m\u001b[0;34m,\u001b[0m\u001b[0;34m\u001b[0m\u001b[0;34m\u001b[0m\u001b[0m\n",
            "\u001b[0;32m/usr/local/lib/python3.7/dist-packages/tensorflow/python/eager/function.py\u001b[0m in \u001b[0;36mcall\u001b[0;34m(self, ctx, args, cancellation_manager)\u001b[0m\n\u001b[1;32m    502\u001b[0m               \u001b[0minputs\u001b[0m\u001b[0;34m=\u001b[0m\u001b[0margs\u001b[0m\u001b[0;34m,\u001b[0m\u001b[0;34m\u001b[0m\u001b[0;34m\u001b[0m\u001b[0m\n\u001b[1;32m    503\u001b[0m               \u001b[0mattrs\u001b[0m\u001b[0;34m=\u001b[0m\u001b[0mattrs\u001b[0m\u001b[0;34m,\u001b[0m\u001b[0;34m\u001b[0m\u001b[0;34m\u001b[0m\u001b[0m\n\u001b[0;32m--> 504\u001b[0;31m               ctx=ctx)\n\u001b[0m\u001b[1;32m    505\u001b[0m         \u001b[0;32melse\u001b[0m\u001b[0;34m:\u001b[0m\u001b[0;34m\u001b[0m\u001b[0;34m\u001b[0m\u001b[0m\n\u001b[1;32m    506\u001b[0m           outputs = execute.execute_with_cancellation(\n",
            "\u001b[0;32m/usr/local/lib/python3.7/dist-packages/tensorflow/python/eager/execute.py\u001b[0m in \u001b[0;36mquick_execute\u001b[0;34m(op_name, num_outputs, inputs, attrs, ctx, name)\u001b[0m\n\u001b[1;32m     53\u001b[0m     \u001b[0mctx\u001b[0m\u001b[0;34m.\u001b[0m\u001b[0mensure_initialized\u001b[0m\u001b[0;34m(\u001b[0m\u001b[0;34m)\u001b[0m\u001b[0;34m\u001b[0m\u001b[0;34m\u001b[0m\u001b[0m\n\u001b[1;32m     54\u001b[0m     tensors = pywrap_tfe.TFE_Py_Execute(ctx._handle, device_name, op_name,\n\u001b[0;32m---> 55\u001b[0;31m                                         inputs, attrs, num_outputs)\n\u001b[0m\u001b[1;32m     56\u001b[0m   \u001b[0;32mexcept\u001b[0m \u001b[0mcore\u001b[0m\u001b[0;34m.\u001b[0m\u001b[0m_NotOkStatusException\u001b[0m \u001b[0;32mas\u001b[0m \u001b[0me\u001b[0m\u001b[0;34m:\u001b[0m\u001b[0;34m\u001b[0m\u001b[0;34m\u001b[0m\u001b[0m\n\u001b[1;32m     57\u001b[0m     \u001b[0;32mif\u001b[0m \u001b[0mname\u001b[0m \u001b[0;32mis\u001b[0m \u001b[0;32mnot\u001b[0m \u001b[0;32mNone\u001b[0m\u001b[0;34m:\u001b[0m\u001b[0;34m\u001b[0m\u001b[0;34m\u001b[0m\u001b[0m\n",
            "\u001b[0;31mKeyboardInterrupt\u001b[0m: "
          ]
        }
      ],
      "source": [
        "# p_metrics, p_budget, p_annotated\n",
        "r0 = active_cluster(\n",
        "    x_train,\n",
        "    y_train,\n",
        "    p_batch_size=10,\n",
        "    p_epochs=2,\n",
        "    p_init=20,\n",
        "    max_n_clusters=10,\n",
        "    target_accuracy=target_accuracy,)\n",
        "\n",
        "plt.plot(r0[2], r0[0], color='b')\n",
        "plt.axhline(target_accuracy, color='r')\n",
        "plt.axhline(baseline_metrics, color='y')"
      ]
    },
    {
      "cell_type": "code",
      "execution_count": null,
      "id": "3abb214a-a58c-4023-8693-e6295c902f22",
      "metadata": {
        "id": "3abb214a-a58c-4023-8693-e6295c902f22"
      },
      "outputs": [],
      "source": [
        "r1 = active_cluster(\n",
        "    x_train,\n",
        "    y_train,\n",
        "    p_batch_size=10,\n",
        "    p_epochs=2,\n",
        "    p_init=20,\n",
        "    max_n_clusters=12,\n",
        "    target_accuracy=target_accuracy)\n",
        "\n",
        "plt.plot(r0[2], r0[0], color='b')\n",
        "plt.plot(r1[2], r1[0], color='g')\n",
        "plt.axhline(target_accuracy, color='r')\n",
        "plt.axhline(baseline_metrics, color='y')"
      ]
    },
    {
      "cell_type": "code",
      "execution_count": 31,
      "id": "eae99ba5-cbab-4fd5-8526-2be707d98049",
      "metadata": {
        "id": "eae99ba5-cbab-4fd5-8526-2be707d98049",
        "outputId": "59aa5223-a298-4919-af71-de8b09a4cf7a",
        "colab": {
          "base_uri": "https://localhost:8080/",
          "height": 422
        }
      },
      "outputs": [
        {
          "output_type": "stream",
          "name": "stdout",
          "text": [
            "Warning: The automatic setting of the number of clusters is not yet implemented\n",
            "0.7742999792098999 210\n",
            "0.8119000196456909 410\n",
            "0.835099995136261 610\n",
            "0.8392000198364258 810\n",
            "0.8553000092506409 1010\n",
            "0.8632000088691711 1210\n",
            "0.867900013923645 1410\n"
          ]
        },
        {
          "output_type": "execute_result",
          "data": {
            "text/plain": [
              "<matplotlib.lines.Line2D at 0x7f2998cbf250>"
            ]
          },
          "metadata": {},
          "execution_count": 31
        },
        {
          "output_type": "display_data",
          "data": {
            "text/plain": [
              "<Figure size 432x288 with 1 Axes>"
            ],
            "image/png": "[encoded data removed]"
          },
          "metadata": {
            "needs_background": "light"
          }
        }
      ],
      "source": [
        "r2 = active_cluster(\n",
        "    x_train,\n",
        "    y_train,\n",
        "    p_batch_size=10,\n",
        "    p_epochs=2,\n",
        "    p_init=20,\n",
        "    max_n_clusters=14,\n",
        "    target_accuracy=target_accuracy)\n",
        "\n",
        "plt.plot(r0[2], r0[0], color='b')\n",
        "plt.plot(r1[2], r1[0], color='g')\n",
        "plt.plot(r2[2], r2[0], color='m')\n",
        "plt.axhline(target_accuracy, color='r')\n",
        "plt.axhline(baseline_metrics, color='y')"
      ]
    },
    {
      "cell_type": "code",
      "execution_count": 32,
      "id": "dbef4bf5-0f4c-42fb-bff6-21a0542df6d3",
      "metadata": {
        "id": "dbef4bf5-0f4c-42fb-bff6-21a0542df6d3",
        "outputId": "a7c76a11-97c0-45cb-ed56-7aec16d6274a",
        "colab": {
          "base_uri": "https://localhost:8080/",
          "height": 526
        }
      },
      "outputs": [
        {
          "output_type": "stream",
          "name": "stdout",
          "text": [
            "Warning: The automatic setting of the number of clusters is not yet implemented\n",
            "0.7242000102996826 210\n",
            "0.7703999876976013 410\n",
            "0.760699987411499 610\n",
            "0.8011999726295471 810\n",
            "0.8251000046730042 1010\n",
            "0.8345000147819519 1210\n",
            "0.839900016784668 1410\n",
            "0.8529999852180481 1610\n",
            "0.8571000099182129 1810\n",
            "0.8517000079154968 2010\n",
            "0.8676999807357788 2210\n",
            "0.8689000010490417 2410\n",
            "0.8658999800682068 2610\n"
          ]
        },
        {
          "output_type": "execute_result",
          "data": {
            "text/plain": [
              "<matplotlib.lines.Line2D at 0x7f2999f0ed90>"
            ]
          },
          "metadata": {},
          "execution_count": 32
        },
        {
          "output_type": "display_data",
          "data": {
            "text/plain": [
              "<Figure size 432x288 with 1 Axes>"
            ],
            "image/png": "[encoded data removed]"
          },
          "metadata": {
            "needs_background": "light"
          }
        }
      ],
      "source": [
        "r3 = active_cluster(\n",
        "    x_train,\n",
        "    y_train,\n",
        "    p_batch_size=10,\n",
        "    p_epochs=2,\n",
        "    p_init=20,\n",
        "    max_n_clusters=16,\n",
        "    target_accuracy=target_accuracy)\n",
        "\n",
        "plt.plot(r0[2], r0[0], color='g')\n",
        "plt.plot(r1[2], r1[0], color='b')\n",
        "plt.plot(r2[2], r2[0], color='m')\n",
        "plt.plot(r3[2], r3[0], color='k')\n",
        "plt.axhline(target_accuracy, color='r')\n",
        "plt.axhline(baseline_metrics, color='y')"
      ]
    },
    {
      "cell_type": "code",
      "execution_count": 33,
      "id": "868ffcbd-a06d-43c2-9eed-e90fa0e9b55c",
      "metadata": {
        "id": "868ffcbd-a06d-43c2-9eed-e90fa0e9b55c",
        "outputId": "3fc146bf-2034-4343-f26a-6ab0303d9525",
        "colab": {
          "base_uri": "https://localhost:8080/",
          "height": 370
        }
      },
      "outputs": [
        {
          "output_type": "stream",
          "name": "stdout",
          "text": [
            "Warning: The automatic setting of the number of clusters is not yet implemented\n",
            "0.7918999791145325 210\n",
            "0.828499972820282 410\n",
            "0.8589000105857849 610\n",
            "0.8664000034332275 810\n"
          ]
        },
        {
          "output_type": "execute_result",
          "data": {
            "text/plain": [
              "<matplotlib.lines.Line2D at 0x7f2999c549d0>"
            ]
          },
          "metadata": {},
          "execution_count": 33
        },
        {
          "output_type": "display_data",
          "data": {
            "text/plain": [
              "<Figure size 432x288 with 1 Axes>"
            ],
            "image/png": "[encoded data removed]"
          },
          "metadata": {
            "needs_background": "light"
          }
        }
      ],
      "source": [
        "r4 = active_cluster(\n",
        "    x_train,\n",
        "    y_train,\n",
        "    p_batch_size=10,\n",
        "    p_epochs=2,\n",
        "    p_init=20,\n",
        "    max_n_clusters=8,\n",
        "    target_accuracy=target_accuracy)\n",
        "\n",
        "plt.plot(r0[2], r0[0], color='g')\n",
        "plt.plot(r1[2], r1[0], color='b')\n",
        "plt.plot(r2[2], r2[0], color='m')\n",
        "plt.plot(r3[2], r3[0], color='k')\n",
        "plt.plot(r4[2], r4[0], color='orange')\n",
        "plt.axhline(target_accuracy, color='r')\n",
        "plt.axhline(baseline_metrics, color='y')"
      ]
    },
    {
      "cell_type": "code",
      "execution_count": 34,
      "id": "8f297b37-ed98-4be4-b052-ef2361bbd417",
      "metadata": {
        "id": "8f297b37-ed98-4be4-b052-ef2361bbd417",
        "outputId": "c9bcd0af-349e-4c61-a07b-0ee042237716",
        "colab": {
          "base_uri": "https://localhost:8080/",
          "height": 370
        }
      },
      "outputs": [
        {
          "output_type": "stream",
          "name": "stdout",
          "text": [
            "Warning: The automatic setting of the number of clusters is not yet implemented\n",
            "0.7578999996185303 210\n",
            "0.8366000056266785 410\n",
            "0.8478999733924866 610\n",
            "0.8684999942779541 810\n"
          ]
        },
        {
          "output_type": "execute_result",
          "data": {
            "text/plain": [
              "<matplotlib.lines.Line2D at 0x7f2998c97bd0>"
            ]
          },
          "metadata": {},
          "execution_count": 34
        },
        {
          "output_type": "display_data",
          "data": {
            "text/plain": [
              "<Figure size 432x288 with 1 Axes>"
            ],
            "image/png": "[encoded data removed]"
          },
          "metadata": {
            "needs_background": "light"
          }
        }
      ],
      "source": [
        "r5 = active_cluster(\n",
        "    x_train,\n",
        "    y_train,\n",
        "    p_batch_size=10,\n",
        "    p_epochs=2,\n",
        "    p_init=20,\n",
        "    max_n_clusters=6,\n",
        "    target_accuracy=target_accuracy)\n",
        "\n",
        "plt.plot(r0[2], r0[0], color='g')\n",
        "plt.plot(r1[2], r1[0], color='b')\n",
        "plt.plot(r2[2], r2[0], color='m')\n",
        "plt.plot(r3[2], r3[0], color='k')\n",
        "plt.plot(r4[2], r4[0], color='orange')\n",
        "plt.plot(r5[2], r5[0], color='purple')\n",
        "plt.axhline(target_accuracy, color='r')\n",
        "plt.axhline(baseline_metrics, color='y')"
      ]
    },
    {
      "cell_type": "code",
      "execution_count": 35,
      "id": "a51b8193-612d-4a50-a4f3-e36976b42a8e",
      "metadata": {
        "id": "a51b8193-612d-4a50-a4f3-e36976b42a8e",
        "outputId": "1596d2f5-62aa-4a16-ce7b-06c9c8646a1a",
        "colab": {
          "base_uri": "https://localhost:8080/",
          "height": 353
        }
      },
      "outputs": [
        {
          "output_type": "stream",
          "name": "stdout",
          "text": [
            "Warning: The automatic setting of the number of clusters is not yet implemented\n",
            "0.7821999788284302 210\n",
            "0.83160001039505 410\n",
            "0.869700014591217 610\n"
          ]
        },
        {
          "output_type": "execute_result",
          "data": {
            "text/plain": [
              "<matplotlib.lines.Line2D at 0x7f299011f110>"
            ]
          },
          "metadata": {},
          "execution_count": 35
        },
        {
          "output_type": "display_data",
          "data": {
            "text/plain": [
              "<Figure size 432x288 with 1 Axes>"
            ],
            "image/png": "[encoded data removed]"
          },
          "metadata": {
            "needs_background": "light"
          }
        }
      ],
      "source": [
        "r6 = active_cluster(\n",
        "    x_train,\n",
        "    y_train,\n",
        "    p_batch_size=10,\n",
        "    p_epochs=2,\n",
        "    p_init=20,\n",
        "    max_n_clusters=4,\n",
        "    target_accuracy=target_accuracy)\n",
        "\n",
        "plt.plot(r0[2], r0[0], color='g')\n",
        "plt.plot(r1[2], r1[0], color='b')\n",
        "plt.plot(r2[2], r2[0], color='m')\n",
        "plt.plot(r3[2], r3[0], color='k')\n",
        "plt.plot(r4[2], r4[0], color='orange')\n",
        "plt.plot(r5[2], r5[0], color='purple')\n",
        "plt.plot(r6[2], r6[0], color='yellow')\n",
        "plt.axhline(target_accuracy, color='r')\n",
        "plt.axhline(baseline_metrics, color='y')"
      ]
    },
    {
      "cell_type": "code",
      "execution_count": 36,
      "id": "e8f9ecc1-b7cb-44f5-854c-cc2517527bf9",
      "metadata": {
        "id": "e8f9ecc1-b7cb-44f5-854c-cc2517527bf9",
        "outputId": "c88e0536-203e-4d57-9fcf-a7e304afe0b2",
        "colab": {
          "base_uri": "https://localhost:8080/",
          "height": 336
        }
      },
      "outputs": [
        {
          "output_type": "stream",
          "name": "stdout",
          "text": [
            "Warning: The automatic setting of the number of clusters is not yet implemented\n",
            "0.8482000231742859 400\n",
            "0.8745999932289124 800\n"
          ]
        },
        {
          "output_type": "execute_result",
          "data": {
            "text/plain": [
              "<matplotlib.lines.Line2D at 0x7f2998db0a90>"
            ]
          },
          "metadata": {},
          "execution_count": 36
        },
        {
          "output_type": "display_data",
          "data": {
            "text/plain": [
              "<Figure size 432x288 with 1 Axes>"
            ],
            "image/png": "[encoded data removed]"
          },
          "metadata": {
            "needs_background": "light"
          }
        }
      ],
      "source": [
        "r0v2 = active_cluster(\n",
        "    x_train,\n",
        "    y_train,\n",
        "    p_batch_size=20,\n",
        "    p_epochs=6,\n",
        "    p_init=20,\n",
        "    max_n_clusters=10,\n",
        "    target_accuracy=target_accuracy,\n",
        "#    custom_acquisition_fn=samp_var_acquisition_fn\n",
        ")\n",
        "\n",
        "plt.plot(r0[2], r0[0], color='b')\n",
        "plt.plot(r0v2[2], r0v2[0], color='g')\n",
        "plt.axhline(target_accuracy, color='r')\n",
        "plt.axhline(baseline_metrics, color='y')"
      ]
    },
    {
      "cell_type": "code",
      "source": [
        ""
      ],
      "metadata": {
        "id": "uXlqXTz-G9OD"
      },
      "id": "uXlqXTz-G9OD",
      "execution_count": null,
      "outputs": []
    },
    {
      "cell_type": "code",
      "execution_count": null,
      "id": "90f9644a-582e-4fba-99ca-25bd9714ae15",
      "metadata": {
        "id": "90f9644a-582e-4fba-99ca-25bd9714ae15",
        "outputId": "080955dd-5e0c-40fe-80c6-f5c76ca8d378",
        "colab": {
          "base_uri": "https://localhost:8080/"
        }
      },
      "outputs": [
        {
          "output_type": "stream",
          "name": "stdout",
          "text": [
            "Warning: The automatic setting of the number of clusters is not yet implemented\n",
            "0.6694999933242798 115\n",
            "0.6819000244140625 215\n",
            "0.717199981212616 315\n",
            "0.7361000180244446 415\n",
            "0.7246999740600586 515\n",
            "0.7415000200271606 615\n",
            "0.7699999809265137 715\n",
            "0.7815999984741211 815\n",
            "0.7821999788284302 915\n",
            "0.7839999794960022 1015\n",
            "0.7919999957084656 1115\n",
            "0.7766000032424927 1215\n",
            "0.774399995803833 1315\n",
            "0.7949000000953674 1415\n",
            "0.7735000252723694 1515\n",
            "0.7760999798774719 1615\n",
            "0.817300021648407 1715\n",
            "0.8040000200271606 1815\n",
            "0.8076000213623047 1915\n",
            "0.792900025844574 2015\n",
            "0.7986999750137329 2115\n",
            "0.7718999981880188 2215\n",
            "0.786300003528595 2315\n",
            "0.78329998254776 2415\n",
            "0.7950000166893005 2515\n",
            "0.8025000095367432 2615\n",
            "0.8228999972343445 2715\n",
            "0.8205000162124634 2815\n",
            "0.8528000116348267 2915\n",
            "0.855400025844574 3015\n",
            "0.8493000268936157 3115\n",
            "0.8525000214576721 3215\n",
            "0.8597999811172485 3315\n",
            "0.8511999845504761 3415\n",
            "0.8435999751091003 3515\n",
            "0.8420000076293945 3615\n",
            "0.8464999794960022 3715\n",
            "0.8585000038146973 3815\n",
            "0.873199999332428 3915\n",
            "0.8655999898910522 4015\n",
            "Warning: The automatic setting of the number of clusters is not yet implemented\n",
            "0.6640999913215637 115\n",
            "0.6863999962806702 215\n",
            "0.6937999725341797 315\n",
            "0.7457000017166138 415\n",
            "0.7351999878883362 515\n",
            "0.7472000122070312 615\n",
            "0.7555999755859375 715\n",
            "0.7659000158309937 815\n",
            "0.743399977684021 915\n",
            "0.7925000190734863 1015\n",
            "0.7850000262260437 1115\n",
            "0.7818999886512756 1215\n",
            "0.8187000155448914 1315\n",
            "0.8144999742507935 1415\n",
            "0.807200014591217 1515\n",
            "0.816100001335144 1615\n",
            "0.8378000259399414 1715\n",
            "0.8373000025749207 1815\n",
            "0.832099974155426 1915\n",
            "0.8392999768257141 2015\n",
            "0.8378000259399414 2115\n",
            "0.8414000272750854 2215\n",
            "0.8373000025749207 2315\n",
            "0.8295000195503235 2415\n",
            "0.8436999917030334 2515\n",
            "0.847599983215332 2615\n",
            "0.8414999842643738 2715\n",
            "0.8378000259399414 2815\n",
            "0.842199981212616 2915\n",
            "0.8424999713897705 3015\n",
            "0.845300018787384 3115\n",
            "0.8598999977111816 3215\n",
            "0.8561000227928162 3315\n",
            "0.8435999751091003 3415\n",
            "0.8443999886512756 3515\n",
            "0.8443999886512756 3615\n",
            "0.8450999855995178 3715\n",
            "0.8252000212669373 3815\n",
            "0.8170999884605408 3915\n",
            "0.8324999809265137 4015\n",
            "0.8345000147819519 4115\n",
            "0.8281999826431274 4215\n",
            "0.8496999740600586 4315\n",
            "0.8632000088691711 4415\n",
            "0.847100019454956 4515\n",
            "0.847000002861023 4615\n",
            "0.8551999926567078 4715\n",
            "0.8478999733924866 4815\n",
            "0.8555999994277954 4915\n",
            "0.8586000204086304 5015\n",
            "0.852400004863739 5115\n",
            "0.8499000072479248 5215\n",
            "0.8533999919891357 5315\n",
            "0.8600999712944031 5415\n",
            "0.8547999858856201 5515\n",
            "0.8550999760627747 5615\n",
            "0.8515999913215637 5715\n",
            "0.8597999811172485 5815\n",
            "0.8637999892234802 5915\n",
            "0.8646000027656555 6015\n",
            "0.8693000078201294 6115\n",
            "0.8737999796867371 6215\n",
            "0.8672000169754028 6315\n",
            "0.8683000206947327 6415\n",
            "0.85589998960495 6515\n",
            "0.8555999994277954 6615\n",
            "0.8529000282287598 6715\n",
            "0.8533999919891357 6815\n",
            "0.8603000044822693 6915\n",
            "0.8677999973297119 7015\n",
            "Warning: The automatic setting of the number of clusters is not yet implemented\n",
            "0.7297000288963318 115\n",
            "0.7443000078201294 215\n",
            "0.7558000087738037 315\n",
            "0.7558000087738037 415\n",
            "0.7689999938011169 515\n",
            "0.7724999785423279 615\n",
            "0.765500009059906 715\n",
            "0.7799999713897705 815\n",
            "0.7932000160217285 915\n",
            "0.8101999759674072 1015\n",
            "0.8029000163078308 1115\n",
            "0.7870000004768372 1215\n",
            "0.7949000000953674 1315\n",
            "0.8115000128746033 1415\n",
            "0.7944999933242798 1515\n",
            "0.8012999892234802 1615\n",
            "0.8240000009536743 1715\n",
            "0.8075000047683716 1815\n",
            "0.8440999984741211 1915\n",
            "0.828499972820282 2015\n",
            "0.8241999745368958 2115\n",
            "0.8485000133514404 2215\n",
            "0.8417999744415283 2315\n",
            "0.8500000238418579 2415\n",
            "0.8496000170707703 2515\n",
            "0.840399980545044 2615\n",
            "0.8598999977111816 2715\n",
            "0.8503999710083008 2815\n",
            "0.8446000218391418 2915\n",
            "0.8134999871253967 3015\n",
            "0.8363999724388123 3115\n",
            "0.8442000150680542 3215\n",
            "0.8518000245094299 3315\n",
            "0.8553000092506409 3415\n",
            "0.8476999998092651 3515\n",
            "0.8391000032424927 3615\n",
            "0.8564000129699707 3715\n",
            "0.8429999947547913 3815\n",
            "0.8489000201225281 3915\n",
            "0.847599983215332 4015\n",
            "0.8514000177383423 4115\n",
            "0.8521999716758728 4215\n",
            "0.8628000020980835 4315\n",
            "0.8604000210762024 4415\n",
            "0.8569999933242798 4515\n",
            "0.8657000064849854 4615\n",
            "0.8575999736785889 4715\n",
            "0.8587999939918518 4815\n",
            "0.8432000279426575 4915\n",
            "0.8598999977111816 5015\n",
            "0.8572999835014343 5115\n",
            "0.8557999730110168 5215\n",
            "0.8636000156402588 5315\n",
            "0.8641999959945679 5415\n",
            "0.8722000122070312 5515\n",
            "0.8700000047683716 5615\n",
            "0.8676000237464905 5715\n",
            "0.8712999820709229 5815\n",
            "0.861299991607666 5915\n",
            "0.8704000115394592 6015\n",
            "0.8654999732971191 6115\n",
            "0.857699990272522 6215\n",
            "Warning: The automatic setting of the number of clusters is not yet implemented\n",
            "0.696399986743927 115\n",
            "0.7727000117301941 215\n",
            "0.7581999897956848 315\n",
            "0.7940000295639038 415\n",
            "0.8004999756813049 515\n",
            "0.7802000045776367 615\n",
            "0.8162999749183655 715\n",
            "0.8165000081062317 815\n",
            "0.8180999755859375 915\n",
            "0.8065000176429749 1015\n",
            "0.8147000074386597 1115\n",
            "0.8123000264167786 1215\n",
            "0.8181999921798706 1315\n",
            "0.8277999758720398 1415\n",
            "0.8356000185012817 1515\n",
            "0.801800012588501 1615\n",
            "0.8276000022888184 1715\n",
            "0.8230000138282776 1815\n",
            "0.8375999927520752 1915\n",
            "0.8273000121116638 2015\n",
            "0.8378999829292297 2115\n",
            "0.8359000086784363 2215\n",
            "0.8288999795913696 2315\n",
            "0.8048999905586243 2415\n",
            "0.8194000124931335 2515\n",
            "0.8323000073432922 2615\n",
            "0.8223999738693237 2715\n",
            "0.8259000182151794 2815\n",
            "0.8424000144004822 2915\n",
            "0.8201000094413757 3015\n",
            "0.8434000015258789 3115\n",
            "0.8547000288963318 3215\n",
            "0.8456000089645386 3315\n",
            "0.8450999855995178 3415\n",
            "0.8457000255584717 3515\n",
            "0.8715000152587891 3615\n",
            "0.8450000286102295 3715\n",
            "0.8569999933242798 3815\n",
            "0.8521999716758728 3915\n",
            "0.8416000008583069 4015\n",
            "0.8579000234603882 4115\n",
            "0.828499972820282 4215\n",
            "0.843999981880188 4315\n",
            "0.845300018787384 4415\n",
            "0.8590999841690063 4515\n",
            "0.8637999892234802 4615\n",
            "0.8384000062942505 4715\n",
            "0.849399983882904 4815\n",
            "0.8590999841690063 4915\n",
            "0.8561000227928162 5015\n",
            "0.8693000078201294 5115\n",
            "Warning: The automatic setting of the number of clusters is not yet implemented\n",
            "0.6495000123977661 115\n",
            "0.664900004863739 215\n",
            "0.6826000213623047 315\n",
            "0.72079998254776 415\n",
            "0.7415000200271606 515\n",
            "0.7343999743461609 615\n",
            "0.7339000105857849 715\n",
            "0.7441999912261963 815\n",
            "0.7724000215530396 915\n",
            "0.7594000101089478 1015\n",
            "0.7491999864578247 1115\n",
            "0.7731999754905701 1215\n",
            "0.7702000141143799 1315\n",
            "0.7802000045776367 1415\n",
            "0.7806000113487244 1515\n",
            "0.7878000140190125 1615\n",
            "0.7829999923706055 1715\n",
            "0.7893000245094299 1815\n",
            "0.8087999820709229 1915\n",
            "0.8015000224113464 2015\n",
            "0.8115000128746033 2115\n",
            "0.8036999702453613 2215\n",
            "0.8073999881744385 2315\n",
            "0.8062000274658203 2415\n",
            "0.8027999997138977 2515\n",
            "0.7850000262260437 2615\n",
            "0.7870000004768372 2715\n",
            "0.7833999991416931 2815\n",
            "0.8021000027656555 2915\n",
            "0.8019999861717224 3015\n",
            "0.7954999804496765 3115\n",
            "0.794700026512146 3215\n",
            "0.7982000112533569 3315\n",
            "0.7960000038146973 3415\n",
            "0.8115000128746033 3515\n",
            "0.7967000007629395 3615\n",
            "0.8090000152587891 3715\n",
            "0.8112000226974487 3815\n",
            "0.8183000087738037 3915\n",
            "0.8102999925613403 4015\n",
            "0.8212000131607056 4115\n",
            "0.8008000254631042 4215\n",
            "0.8285999894142151 4315\n",
            "0.8292999863624573 4415\n",
            "0.828499972820282 4515\n",
            "0.8125 4615\n",
            "0.828000009059906 4715\n",
            "0.8427000045776367 4815\n",
            "0.8044000267982483 4915\n",
            "0.8098999857902527 5015\n",
            "0.8134999871253967 5115\n",
            "0.816100001335144 5215\n",
            "0.8075000047683716 5315\n",
            "0.8141999840736389 5415\n",
            "0.8158000111579895 5515\n",
            "0.8116000294685364 5615\n",
            "0.8003000020980835 5715\n",
            "0.8266000151634216 5815\n",
            "0.8015999794006348 5915\n",
            "0.8133999705314636 6015\n",
            "0.8084999918937683 6115\n",
            "0.8238000273704529 6215\n"
          ]
        }
      ],
      "source": [
        "# p_metrics, p_budget, p_annotated\n",
        "r0_12 = active_cluster(\n",
        "    x_train,\n",
        "    y_train,\n",
        "    p_batch_size=5,\n",
        "    p_epochs=6,\n",
        "    p_init=20,\n",
        "    max_n_clusters=12,\n",
        "    target_accuracy=target_accuracy,)\n",
        "\n",
        "r0_14 = active_cluster(\n",
        "    x_train,\n",
        "    y_train,\n",
        "    p_batch_size=5,\n",
        "    p_epochs=6,\n",
        "    p_init=20,\n",
        "    max_n_clusters=14,\n",
        "    target_accuracy=target_accuracy,)\n",
        "\n",
        "r0_16 = active_cluster(\n",
        "    x_train,\n",
        "    y_train,\n",
        "    p_batch_size=5,\n",
        "    p_epochs=6,\n",
        "    p_init=20,\n",
        "    max_n_clusters=16,\n",
        "    target_accuracy=target_accuracy,)\n",
        "\n",
        "r0_18 = active_cluster(\n",
        "    x_train,\n",
        "    y_train,\n",
        "    p_batch_size=5,\n",
        "    p_epochs=6,\n",
        "    p_init=20,\n",
        "    max_n_clusters=12,\n",
        "    target_accuracy=target_accuracy,)\n",
        "\n",
        "r0_20 = active_cluster(\n",
        "    x_train,\n",
        "    y_train,\n",
        "    p_batch_size=5,\n",
        "    p_epochs=6,\n",
        "    p_init=20,\n",
        "    max_n_clusters=12,\n",
        "    target_accuracy=target_accuracy,)\n",
        "\n",
        "plt.plot(r0[2], r0[0], color='red')\n",
        "plt.plot(r0_12[2], r0_12[0], color='orange')\n",
        "plt.plot(r0_14[2], r0_14[0], color='yellow')\n",
        "plt.plot(r0_16[2], r0_16[0], color='green')\n",
        "plt.plot(r0_18[2], r0_18[0], color='cyan')\n",
        "plt.plot(r0_20[2], r0_20[0], color='blue')\n",
        "\n",
        "plt.axhline(target_accuracy, color='black')\n",
        "plt.axhline(baseline_metrics, color='grey')"
      ]
    },
    {
      "cell_type": "code",
      "execution_count": 2,
      "id": "d2c7c7cf-34ef-4d1e-892b-7afe6ffa90b3",
      "metadata": {
        "id": "d2c7c7cf-34ef-4d1e-892b-7afe6ffa90b3",
        "outputId": "50d37102-f219-4b1d-b125-d8788afdb490",
        "colab": {
          "base_uri": "https://localhost:8080/",
          "height": 165
        }
      },
      "outputs": [
        {
          "output_type": "error",
          "ename": "NameError",
          "evalue": "ignored",
          "traceback": [
            "\u001b[0;31m---------------------------------------------------------------------------\u001b[0m",
            "\u001b[0;31mNameError\u001b[0m                                 Traceback (most recent call last)",
            "\u001b[0;32m<ipython-input-2-57d3a516a5c5>\u001b[0m in \u001b[0;36m<module>\u001b[0;34m()\u001b[0m\n\u001b[0;32m----> 1\u001b[0;31m \u001b[0mr0\u001b[0m\u001b[0;34m\u001b[0m\u001b[0;34m\u001b[0m\u001b[0m\n\u001b[0m",
            "\u001b[0;31mNameError\u001b[0m: name 'r0' is not defined"
          ]
        }
      ],
      "source": [
        "r0"
      ]
    }
  ],
  "metadata": {
    "kernelspec": {
      "display_name": "Python 3 (ipykernel)",
      "language": "python",
      "name": "python3"
    },
    "language_info": {
      "codemirror_mode": {
        "name": "ipython",
        "version": 3
      },
      "file_extension": ".py",
      "mimetype": "text/x-python",
      "name": "python",
      "nbconvert_exporter": "python",
      "pygments_lexer": "ipython3",
      "version": "3.8.0"
    },
    "colab": {
      "name": "active_poc.ipynb",
      "provenance": []
    }
  },
  "nbformat": 4,
  "nbformat_minor": 5
}